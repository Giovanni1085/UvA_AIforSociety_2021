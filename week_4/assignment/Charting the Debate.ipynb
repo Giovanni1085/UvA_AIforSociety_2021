{
 "cells": [
  {
   "cell_type": "markdown",
   "metadata": {},
   "source": [
    "# Charting the debate on the automation of work\n",
    "\n",
    "The focus of this assignment will be on understanding how people talk about the automation of work. There are many ways to do this, it is up to you to choose what to focus on. Relevant questions include:\n",
    "* What are the topics or positions discussed in relation to the automation of work? \n",
    "* Which jobs or tasks are considered at risk?\n",
    "* What are the attitudes towards this change (sentiment analysis)?\n",
    "* How topics and attitudes change over time or in relation to certain events (COVID)?\n",
    "\n",
    "This assignment is divided into two parts:\n",
    "1. **Before the laboratory** (in groups): decide how to approach the question and what to focus on (see below). Clearly state your goals and methods, and make a plan including a division of work. Make sure to have collected the data you will need before the laboratory.\n",
    "2. **During and after the laboratory** (in groups): run your analysis and report on results, as you did for previous laboratories. Relate your findings to what was discussed in class and, possibly, the readings we mentioned."
   ]
  },
  {
   "cell_type": "markdown",
   "metadata": {},
   "source": [
    "## Example projects\n",
    "\n",
    "* The [Economics subreddit](https://www.reddit.com/r/Economics). Hint: you can get data with [PRAW](https://github.com/praw-dev/praw).\n",
    "* News media on Twitter (see below).\n",
    "* [Kaggle news headlines](https://www.kaggle.com/rmisra/news-category-dataset) from the Huffington Post.\n",
    "\n",
    "**You are welcome to choose another project of equivalent level of challenge.**"
   ]
  },
  {
   "cell_type": "markdown",
   "metadata": {},
   "source": [
    "### More in detail: News on Twitter\n",
    "\n",
    "To give you an example, we detail here how this assignment could be approached by considering news on Twitter.\n",
    "\n",
    "* Question: are media outlets discussing the automation of work? If so, how are they framing this topic across the political spectrum?\n",
    "* Plan: we will use Twitter data, retrieve tweets from a selection of news media across the political spectrum, filter tweets according to a list of keywords, and analyse a) topics being discussed and b) attitude towards them.\n",
    "* Getting the data: see below for links to Twitter APIs.\n",
    "* Which Twitter accounts to use? Consider @nytimes @WSJ @washingtonpost @spectator @guardian and a few more (for example).\n",
    "* Which keywords to use? Consider \"automation\" + \"work\" or \"labour\", \"robots\", \"jobs\", etc.\n",
    "* How to analyse framing? Consider using Part of Speech tagging to identify adjectives and adverbs, report the most frequent ones that along each filter keyword. Which media outlets talk more or less about a certain topic? How framing changes over different media outlets?\n",
    "* You could also perform a sentiment analysis and a popularity analysis (using likes and re-tweets).\n",
    "\n",
    "An example of a relevant Tweet is the following: https://twitter.com/WSJ/status/1308541585999777792.\n",
    "\n",
    "To get data from Twitter, consider using [Tweepy](https://www.tweepy.org). To do PoS and sentiment analysis, check out [TextBlob](https://textblob.readthedocs.io/en/dev/index.html)."
   ]
  },
  {
   "cell_type": "code",
   "execution_count": null,
   "metadata": {},
   "outputs": [],
   "source": [
    "# Your code here"
   ]
  }
 ],
 "metadata": {
  "kernelspec": {
   "display_name": "Python [conda env:uva] *",
   "language": "python",
   "name": "conda-env-uva-py"
  },
  "language_info": {
   "codemirror_mode": {
    "name": "ipython",
    "version": 3
   },
   "file_extension": ".py",
   "mimetype": "text/x-python",
   "name": "python",
   "nbconvert_exporter": "python",
   "pygments_lexer": "ipython3",
   "version": "3.8.5"
  }
 },
 "nbformat": 4,
 "nbformat_minor": 4
}
